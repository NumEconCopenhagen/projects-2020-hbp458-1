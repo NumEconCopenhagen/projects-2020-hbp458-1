{
 "cells": [
  {
   "cell_type": "markdown",
   "metadata": {},
   "source": [
    "<font size=\"6\">Model project - Cournot competition</font>"
   ]
  },
  {
   "cell_type": "markdown",
   "metadata": {},
   "source": [
    "I have chosen to code a Cournot compettition setting, where two firms compete each other on prices. For the standard model I have chosen firms with the same cost function and I will expand the model first by letting the firms face different cost functions, and later introducing a third firm, but then returning to same cost function.\n",
    "\n",
    "Below the relevant packages for the first parts of the project is imported."
   ]
  },
  {
   "cell_type": "markdown",
   "metadata": {},
   "source": [
    "Fisrt off, I consider an economy with two firms competing, a so called Cournot Duopoly. Below is the defined **variables** and **functions** that forms the basis:\n",
    "\n",
    "* $q1$ is the quantity produced by Firm 1\n",
    "* $q2$ is the quantity produced by Firm 2\n",
    "* $p$ is the competitive price the firms take\n",
    "* $y$ is the constant that is part of the demand function\n",
    "* $f$ is the constant that is part of the cost function\n",
    "* Subscripts denotes periods\n",
    "\n",
    "The functions are given by \n",
    "\n",
    "$$\n",
    "\\begin{align}\n",
    "    P &= y - 2(q1+q2) \\\\\n",
    "    c &= f+2(q1+q2) \\\\\n",
    "    Profit = (y - 2(q1+q2))(q1+q2) - f - 2(q1+q2) \\\\\n",
    "\\end{align}\n",
    "$$\n",
    "\n",
    "where the constraint on consumption in period 2 results from the intertemporal budget constraint. Borrowing is not possible by the second constraint. "
   ]
  },
  {
   "cell_type": "markdown",
   "metadata": {},
   "source": [
    "<font size=\"5\">Analytical solution</font>"
   ]
  },
  {
   "cell_type": "code",
   "execution_count": 2,
   "metadata": {},
   "outputs": [],
   "source": [
    "# Importing relevant packages\n",
    "\n",
    "import numpy as np\n",
    "import scipy as sp\n",
    "import sympy as sm\n",
    "import matplotlib.pyplot as plt"
   ]
  },
  {
   "cell_type": "markdown",
   "metadata": {},
   "source": [
    "I start by defining the variables needed for the functions of the model"
   ]
  },
  {
   "cell_type": "code",
   "execution_count": 3,
   "metadata": {},
   "outputs": [],
   "source": [
    "# Attaching symbols to relevant variables\n",
    "\n",
    "q1 = sm.symbols('q_1')\n",
    "q2 = sm.symbols('q_2') \n",
    "f = sm.symbols('f')\n",
    "y = sm.symbols('y')"
   ]
  },
  {
   "cell_type": "markdown",
   "metadata": {},
   "source": [
    "<font size=\"4\">Basic functions</font>"
   ]
  },
  {
   "cell_type": "markdown",
   "metadata": {},
   "source": [
    "I start by defining the functions that form the setup for the competition situation"
   ]
  },
  {
   "cell_type": "code",
   "execution_count": 4,
   "metadata": {},
   "outputs": [],
   "source": [
    "# Definitions of the useful functions are made\n",
    "\n",
    "# First off, the total demand function\n",
    "def demand(q1,q2,y):\n",
    "    return (y-2*(q1+q2))\n",
    "\n",
    "# Secondly, I write the cost functions of Firm 1 and Firm 2:\n",
    "def cost_1(q1,f):\n",
    "    return (f+2*q1)\n",
    "\n",
    "def cost_2(q2,f):\n",
    "    return (f+2*q2)\n",
    "\n",
    "# Finally, I establish the prfit function of first Firm 1 and then Firm 2:\n",
    "def prof_1(q1,q2,y,f):\n",
    "    return (demand(q1,q2,y) * q1 - cost_1(q1,f))\n",
    "    \n",
    "def prof_2(q1,q2,y,f):\n",
    "    return (demand(q1,q2,y) * q2 - cost_2(q2,f))"
   ]
  },
  {
   "cell_type": "markdown",
   "metadata": {},
   "source": [
    "<font size=\"4\">First order conditions</font>"
   ]
  },
  {
   "cell_type": "markdown",
   "metadata": {},
   "source": [
    "To find the best response functions of the firms, the first order conditions are derived below"
   ]
  },
  {
   "cell_type": "code",
   "execution_count": 5,
   "metadata": {},
   "outputs": [
    {
     "name": "stdout",
     "output_type": "stream",
     "text": [
      "The First Order Conditions are given by\n"
     ]
    },
    {
     "data": {
      "text/plain": [
       "-4*q_1 - 2*q_2 + y - 2"
      ]
     },
     "metadata": {},
     "output_type": "display_data"
    },
    {
     "data": {
      "text/plain": [
       "-2*q_1 - 4*q_2 + y - 2"
      ]
     },
     "metadata": {},
     "output_type": "display_data"
    }
   ],
   "source": [
    "#Take the derivative of pi1 wrt q1 and the derivative of pi2 wrt q2 and set equal to 0 to get the first order condition\n",
    "\n",
    "FOC1=sm.diff(prof_1(q1,q2,y,f),q1)\n",
    "FOC2=sm.diff(prof_2(q1,q2,y,f),q2)\n",
    "\n",
    "#Solve FOC1 for q1 to get the optimal choice of quantity, q1e, end FOC2 for q2 to get q2e\n",
    "print('The First Order Conditions are given by')\n",
    "display(FOC1, FOC2)"
   ]
  },
  {
   "cell_type": "markdown",
   "metadata": {},
   "source": [
    "<font size=\"4\">Best resposne functions</font>"
   ]
  },
  {
   "cell_type": "markdown",
   "metadata": {},
   "source": [
    "Below the best repsonse function are derived"
   ]
  },
  {
   "cell_type": "code",
   "execution_count": 163,
   "metadata": {},
   "outputs": [
    {
     "name": "stdout",
     "output_type": "stream",
     "text": [
      "\n",
      " Firm 1 best response is: q_1 = [-q_2/2 + y/4 - 1/2]\n",
      "\n",
      " Firm 2 best response is: q_2 =[-q_1/2 + y/4 - 1/2]\n"
     ]
    }
   ],
   "source": [
    "# Now the best response functions are found by substitution and isolation of q_1 and q_2:\n",
    "\n",
    "BestR_1= sm.solve(FOC1,q1)\n",
    "BestR_2= sm.solve(FOC2,q2)\n",
    "print(\"\\n Firm 1 best response is: q_1 = \" + str(BestR_1))\n",
    "print(\"\\n Firm 2 best response is: q_2 =\" + str(BestR_2) )\n"
   ]
  },
  {
   "cell_type": "markdown",
   "metadata": {},
   "source": [
    "In order to find the quantity each firm will produce, the response functions are substitued into the first order conditions"
   ]
  },
  {
   "cell_type": "code",
   "execution_count": 164,
   "metadata": {},
   "outputs": [
    {
     "data": {
      "text/plain": [
       "[-q_2/2 + y/4 - 1/2]"
      ]
     },
     "metadata": {},
     "output_type": "display_data"
    },
    {
     "data": {
      "text/plain": [
       "[-q_1/2 + y/4 - 1/2]"
      ]
     },
     "metadata": {},
     "output_type": "display_data"
    }
   ],
   "source": [
    "# The quantity of firm is found by substituting best response of b into FOC1 and vice versa \n",
    "BestR_1_s = FOC1.subs(q2,BestR_2)\n",
    "opt_q1 = sm.solve(BestR_1_s,q1)\n",
    "\n",
    "BestR_2_s = FOC2.subs(q1,BestR_1)\n",
    "opt_q2 = sm.solve(BestR_2_s,q2)\n",
    "\n",
    "# The optimal qunatities are shown\n",
    "display (opt_q1, opt_q2) #Showing the optimal quantities"
   ]
  },
  {
   "cell_type": "markdown",
   "metadata": {},
   "source": [
    "The best response functions are chosen by each firm given the expected quantity produced by the other firm. When the firms faces the same cost function, they will have same marginal costs and thereby produce an equal amount."
   ]
  },
  {
   "cell_type": "markdown",
   "metadata": {},
   "source": [
    "<font size=\"4\">Price</font>"
   ]
  },
  {
   "cell_type": "markdown",
   "metadata": {},
   "source": [
    "I will now find the price that the firms takes"
   ]
  },
  {
   "cell_type": "code",
   "execution_count": 165,
   "metadata": {},
   "outputs": [
    {
     "name": "stdout",
     "output_type": "stream",
     "text": [
      "\n",
      " The price is given by: q_1 + q_2 + 2\n"
     ]
    }
   ],
   "source": [
    "#We are now able of finding the prices the firms will take for the good and the profit each firm get:\n",
    "\n",
    "#As the above quantities is given as lists we start by defining/converting the list into a float:\n",
    "p_q1=opt_q1[0]\n",
    "p_q2=opt_q2[0]\n",
    "#We can now find the price of the good:\n",
    "print(\"\\n The price is given by: \" + str(demand(p_q1,p_q2,y)) ) "
   ]
  },
  {
   "cell_type": "markdown",
   "metadata": {},
   "source": [
    "The price is a function of the produced quantity, why it will always depend on the chosen produced quantity by the firms."
   ]
  },
  {
   "cell_type": "markdown",
   "metadata": {},
   "source": [
    "As the last step of the analytically solution of the model, the profit for both firms are found"
   ]
  },
  {
   "cell_type": "code",
   "execution_count": 166,
   "metadata": {},
   "outputs": [
    {
     "data": {
      "text/plain": [
       "-f + q_2 - y/2 + (q_1 + q_2 + 2)*(-q_2/2 + y/4 - 1/2) + 1"
      ]
     },
     "metadata": {},
     "output_type": "display_data"
    },
    {
     "data": {
      "text/plain": [
       "-f + q_1 - y/2 + (-q_1/2 + y/4 - 1/2)*(q_1 + q_2 + 2) + 1"
      ]
     },
     "metadata": {},
     "output_type": "display_data"
    }
   ],
   "source": [
    "# Profit 1\n",
    "prof_1(p_q1,p_q2,y,f)\n",
    "\n",
    "# Profit 2\n",
    "prof_2(p_q1,p_q2, y, f)\n",
    "\n",
    "display (prof_1(p_q1,p_q2,y,f), prof_2(p_q1,p_q2,y,f))"
   ]
  },
  {
   "cell_type": "markdown",
   "metadata": {},
   "source": [
    "<font size=\"5\">Numerical analysis</font>"
   ]
  },
  {
   "cell_type": "markdown",
   "metadata": {},
   "source": [
    "Now the Numerical Analysis is done, and y is set to 50 and f is set to 10\n",
    "\n",
    "I start by solving the first order conditions, best responses and finding the optimal quantities of the firms"
   ]
  },
  {
   "cell_type": "code",
   "execution_count": 167,
   "metadata": {},
   "outputs": [
    {
     "data": {
      "text/plain": [
       "-4*q_1 - 2*q_2 + 48"
      ]
     },
     "metadata": {},
     "output_type": "display_data"
    },
    {
     "data": {
      "text/plain": [
       "-2*q_1 - 4*q_2 + 48"
      ]
     },
     "metadata": {},
     "output_type": "display_data"
    },
    {
     "name": "stdout",
     "output_type": "stream",
     "text": [
      "\n",
      " The best repsonse of firm 1 is: q_1 = -q_2/2 + 12 and the best repsonse of firm B is: q_2 =-q_1/2 + 12\n"
     ]
    }
   ],
   "source": [
    "# Setting parametervalues\n",
    "\n",
    "y = 50\n",
    "f = 10\n",
    "\n",
    "# Finding first order conditions\n",
    "\n",
    "FOC1 = sm.diff(prof_1(q1,q2,y,f),q1)\n",
    "FOC2 = sm.diff(prof_2(q1,q2,y,f),q2)\n",
    "display(FOC1,FOC2)\n",
    "\n",
    "# Deriving best response functions \n",
    "BestR_1= sm.solve(sm.Eq(FOC1,0),q1)[0]\n",
    "BestR_2= sm.solve(sm.Eq(FOC2,0),q2)[0]\n",
    "print(\"\\n The best repsonse of firm 1 is: q_1 = \" + str(BestR_1) + \" and the best repsonse of firm B is: q_2 =\" + str(BestR_2) )"
   ]
  },
  {
   "cell_type": "markdown",
   "metadata": {},
   "source": [
    "The firms choose their optimal production depending on what the other firm produces, so they can give \"the best response\" in the given situation.\n",
    "\n",
    "Now the best response functions are substituted in to each other, making them a function of only the production of the individual firm."
   ]
  },
  {
   "cell_type": "code",
   "execution_count": 168,
   "metadata": {},
   "outputs": [
    {
     "data": {
      "text/plain": [
       "[8]"
      ]
     },
     "metadata": {},
     "output_type": "display_data"
    },
    {
     "data": {
      "text/plain": [
       "[8]"
      ]
     },
     "metadata": {},
     "output_type": "display_data"
    }
   ],
   "source": [
    "#Solving for the optimal quantity for each firm\n",
    "\n",
    "BestR_2_s = FOC2.subs(q1,BestR_1) #substituting the best response into the FOC of firm A\n",
    "opt_q2 = sm.solve(BestR_2_s,q2)\n",
    "\n",
    "BestR_1_s = FOC1.subs(q2,BestR_2) #substituting the best response function of firm B into the FOC of firm A\n",
    "opt_q1 = sm.solve(BestR_1_s,q1)\n",
    "\n",
    "display (opt_q1, opt_q2)"
   ]
  },
  {
   "cell_type": "markdown",
   "metadata": {},
   "source": [
    "As seen above the optimal quantities for both firm 1 and firm 2 is producing 8 units each.\n",
    "\n",
    "This is used to calculate the price, bvy setting the quantities q1 and q2 into the demand function."
   ]
  },
  {
   "cell_type": "code",
   "execution_count": 124,
   "metadata": {},
   "outputs": [
    {
     "name": "stdout",
     "output_type": "stream",
     "text": [
      "\n",
      " The price is: 18\n"
     ]
    }
   ],
   "source": [
    "# FInding the price for the gooods produced\n",
    "\n",
    "p_q1=opt_q1[0]\n",
    "p_q2=opt_q2[0]\n",
    "\n",
    "print(\"\\n The price is: \" + str(demand(p_q1,p_q2,y)) )"
   ]
  },
  {
   "cell_type": "markdown",
   "metadata": {},
   "source": [
    "The price is 18 in the scenario where the firms face the same cost function and therefore produce the equal quantity of 8."
   ]
  },
  {
   "cell_type": "code",
   "execution_count": 125,
   "metadata": {},
   "outputs": [
    {
     "name": "stdout",
     "output_type": "stream",
     "text": [
      "\n",
      " Firm 1 profit is: 118 and firm 2 profit is: 118\n"
     ]
    }
   ],
   "source": [
    "# Finally the profit of each firm is found by inserting the optimal values into the profit functions\n",
    "\n",
    "print(\"\\n Firm 1 profit is: \" + str(prof_1(p_q1,p_q2,y,f)) + \" and firm 2 profit is: \" + str(prof_2(p_q1,p_q2,y,f)) )"
   ]
  },
  {
   "cell_type": "markdown",
   "metadata": {},
   "source": [
    "To conclude on the numerical analysis:\n",
    "    - Firm 1:\n",
    "        - Optimal quantity: 8\n",
    "        - Profit 118\n",
    "    - Firm 2:\n",
    "        - Optimal quantity: 8\n",
    "        - Profit 118\n",
    "        \n",
    "With a shared price for the good of 18"
   ]
  },
  {
   "cell_type": "markdown",
   "metadata": {},
   "source": [
    "Below are the best repsonse functions graphed"
   ]
  },
  {
   "cell_type": "code",
   "execution_count": 126,
   "metadata": {},
   "outputs": [
    {
     "name": "stdout",
     "output_type": "stream",
     "text": [
      "\n",
      " The optimal point of quantities is 8 for firm 1 and 8 for firm 2 \n"
     ]
    }
   ],
   "source": [
    "# The two best response functions are plotted against each other\n",
    "\n",
    "plt.plot([0,12],[24,0], label = 'BestR_1(opt_q2)')\n",
    "plt.plot([0,24],[12,0], label = 'BestR_2(opt_q1)')\n",
    "plt.legend()\n",
    "plt.xlabel('Quantity firm 1')\n",
    "plt.ylabel('Quantity firm 2')\n",
    "plt.title('Best response functions')\n",
    "\n",
    "print(\"\\n The optimal point of quantities is \" + str(p_q1) + \" for firm 1 \" + \"and \" + str(p_q2) + \" for firm 2 \" )"
   ]
  },
  {
   "cell_type": "markdown",
   "metadata": {},
   "source": [
    "<font size=\"5\">Analytical solution - different cost functions</font>"
   ]
  },
  {
   "cell_type": "markdown",
   "metadata": {},
   "source": [
    "Now I will expand this by letting the firms face different cost functions, more precisely firm 2's cost has increased, whiule firm 1 has the same cost function as before.\n",
    "\n",
    "This will follow the same procedure as before, defining basic function, finding FOC, deriving best repsonse functions and solving for optimal quantities and finally finding profit. First off the analytical solution"
   ]
  },
  {
   "cell_type": "code",
   "execution_count": 127,
   "metadata": {},
   "outputs": [],
   "source": [
    "# Attachin new symbols to relevant variables\n",
    "\n",
    "k = sm.symbols('k')\n",
    "g = sm.symbols('g')\n",
    "\n",
    "# As the demand function does not change, I start by defining the cost functions of Firm 1 and Firm 2:\n",
    "def cost_1_new(q1,g):\n",
    "    return (g+2*q1)\n",
    "\n",
    "def cost_2_new(q2,g):\n",
    "    return (g+2+8*q2)\n",
    "\n",
    "# Secondly, I establish the profit function of first Firm 1 and then Firm 2:\n",
    "def prof_1_new(q1,q2,k,g):\n",
    "    return (demand(q1,q2,k) * q1 - cost_1_new(q1,g))\n",
    "    \n",
    "def prof_2_new(q1,q2,y,f):\n",
    "    return (demand(q1,q2,k) * q2 - cost_2_new(q2,g))"
   ]
  },
  {
   "cell_type": "code",
   "execution_count": 128,
   "metadata": {},
   "outputs": [
    {
     "data": {
      "text/plain": [
       "k - 4*q_1 - 2*q_2 - 2"
      ]
     },
     "metadata": {},
     "output_type": "display_data"
    },
    {
     "data": {
      "text/plain": [
       "k - 2*q_1 - 4*q_2 - 8"
      ]
     },
     "metadata": {},
     "output_type": "display_data"
    }
   ],
   "source": [
    "# Now the first order conditions are found\n",
    "\n",
    "FOC1 = sm.diff(prof_1_new(q1,q2,k,g),q1)\n",
    "FOC2 = sm.diff(prof_2_new(q1,q2,k,g),q2)\n",
    "display(FOC1,FOC2)"
   ]
  },
  {
   "cell_type": "code",
   "execution_count": 129,
   "metadata": {},
   "outputs": [
    {
     "name": "stdout",
     "output_type": "stream",
     "text": [
      "\n",
      " The best response function of firm 1 is: q_1 = k/4 - q_2/2 - 1/2\n",
      "\n",
      " The best response function of firm 2 is: q_2 = k/4 - q_1/2 - 2\n"
     ]
    }
   ],
   "source": [
    "# The best response functions are now derived by\n",
    "\n",
    "BestR_1= sm.solve(sm.Eq(FOC1,0),q1)[0]\n",
    "BestR_2= sm.solve(sm.Eq(FOC2,0),q2)[0]\n",
    "\n",
    "print(\"\\n The best response function of firm 1 is: q_1 = \" + str(BestR_1))\n",
    "print(\"\\n The best response function of firm 2 is: q_2 = \" + str(BestR_2) )"
   ]
  },
  {
   "cell_type": "code",
   "execution_count": 130,
   "metadata": {},
   "outputs": [
    {
     "data": {
      "text/plain": [
       "[k/6 + 2/3]"
      ]
     },
     "metadata": {},
     "output_type": "display_data"
    },
    {
     "data": {
      "text/plain": [
       "[k/6 - 7/3]"
      ]
     },
     "metadata": {},
     "output_type": "display_data"
    }
   ],
   "source": [
    "# The quantities of each firm is found by substitution\n",
    "\n",
    "BestR_1_s = FOC1.subs(q2,BestR_2)\n",
    "opt_q1 = sm.solve(BestR_1_s,q1)\n",
    "\n",
    "BestR_2_s = FOC2.subs(q1,BestR_1)\n",
    "opt_q2 = sm.solve(BestR_2_s,q2)\n",
    "\n",
    "display (opt_q1, opt_q2)"
   ]
  },
  {
   "cell_type": "code",
   "execution_count": 131,
   "metadata": {},
   "outputs": [
    {
     "name": "stdout",
     "output_type": "stream",
     "text": [
      "\n",
      " The price is: k/3 + 10/3\n"
     ]
    }
   ],
   "source": [
    "# The price of the good is found by\n",
    "p_q1=opt_q1[0]\n",
    "p_q2=opt_q2[0]\n",
    "#We can now find the price of the good:\n",
    "print(\"\\n The price is: \" + str(demand(p_q1,p_q2,k)) ) "
   ]
  },
  {
   "cell_type": "code",
   "execution_count": 132,
   "metadata": {},
   "outputs": [
    {
     "data": {
      "text/plain": [
       "-g - k/3 + (k/6 + 2/3)*(k/3 + 10/3) - 4/3"
      ]
     },
     "metadata": {},
     "output_type": "display_data"
    },
    {
     "data": {
      "text/plain": [
       "-g - 4*k/3 + (k/6 - 7/3)*(k/3 + 10/3) + 50/3"
      ]
     },
     "metadata": {},
     "output_type": "display_data"
    }
   ],
   "source": [
    "# Profit 1\n",
    "prof_1(p_q1, p_q2,k,g)\n",
    "\n",
    "# Profit 2\n",
    "prof_2(p_q1, p_q2, k, g)\n",
    "\n",
    "display (prof_1_new(p_q1, p_q2, k, g), prof_2_new(p_q1, p_q2, k, g))"
   ]
  },
  {
   "cell_type": "markdown",
   "metadata": {},
   "source": [
    "It can be seen by the derivations, that firm 1 now produces more than firm 2 due to the lower cost function. This affects the price and further the profit of the individual firm. By how much can be seen in the numerical analysis."
   ]
  },
  {
   "cell_type": "markdown",
   "metadata": {},
   "source": [
    "<font size=\"5\">Numerical analysis</font>"
   ]
  },
  {
   "cell_type": "markdown",
   "metadata": {},
   "source": [
    "For the Numerical analysis, the same values as before is given so k = 50 and g = 10, where k is the constant from the demand function and g is the constant in the cost function."
   ]
  },
  {
   "cell_type": "code",
   "execution_count": 133,
   "metadata": {},
   "outputs": [
    {
     "data": {
      "text/plain": [
       "-4*q_1 - 2*q_2 + 48"
      ]
     },
     "metadata": {},
     "output_type": "display_data"
    },
    {
     "data": {
      "text/plain": [
       "-2*q_1 - 4*q_2 + 42"
      ]
     },
     "metadata": {},
     "output_type": "display_data"
    },
    {
     "name": "stdout",
     "output_type": "stream",
     "text": [
      "\n",
      " The best repsonse of firm 1 is: q_1 = -q_2/2 + 12 and the best repsonse of firm B is: q_2 =-q_1/2 + 21/2\n"
     ]
    }
   ],
   "source": [
    "# Setting parametervalues\n",
    "\n",
    "k = 50\n",
    "g = 10\n",
    "\n",
    "# Finding first order conditions\n",
    "\n",
    "FOC1 = sm.diff(prof_1_new(q1,q2,k,g),q1)\n",
    "FOC2 = sm.diff(prof_2_new(q1,q2,k,g),q2)\n",
    "display(FOC1,FOC2)\n",
    "\n",
    "# Deriving best response functions \n",
    "BestR_1= sm.solve(sm.Eq(FOC1,0),q1)[0]\n",
    "BestR_2= sm.solve(sm.Eq(FOC2,0),q2)[0]\n",
    "print(\"\\n The best repsonse of firm 1 is: q_1 = \" + str(BestR_1) + \" and the best repsonse of firm B is: q_2 =\" + str(BestR_2) )"
   ]
  },
  {
   "cell_type": "markdown",
   "metadata": {},
   "source": [
    "It is already obvious that the firms face a different situation than when they had the same cost function. "
   ]
  },
  {
   "cell_type": "code",
   "execution_count": 134,
   "metadata": {},
   "outputs": [
    {
     "data": {
      "text/plain": [
       "[9]"
      ]
     },
     "metadata": {},
     "output_type": "display_data"
    },
    {
     "data": {
      "text/plain": [
       "[6]"
      ]
     },
     "metadata": {},
     "output_type": "display_data"
    }
   ],
   "source": [
    "# The optimal quantities of each firm are found by\n",
    "\n",
    "BestR_1_s = FOC1.subs(q2,BestR_2)\n",
    "opt_q1 = sm.solve(BestR_1_s,q1)\n",
    "\n",
    "BestR_2_s = FOC2.subs(q1,BestR_1)\n",
    "opt_q2 = sm.solve(BestR_2_s,q2)\n",
    "\n",
    "display (opt_q1, opt_q2)"
   ]
  },
  {
   "cell_type": "markdown",
   "metadata": {},
   "source": [
    "Here it can be seen that firm 1 now produces one unit more than in the former example, while firm 2 produces 2 units less."
   ]
  },
  {
   "cell_type": "code",
   "execution_count": 135,
   "metadata": {},
   "outputs": [
    {
     "name": "stdout",
     "output_type": "stream",
     "text": [
      "\n",
      " The price is: 20\n"
     ]
    }
   ],
   "source": [
    "# The price of the good is found by\n",
    "p_q1=opt_q1[0]\n",
    "p_q2=opt_q2[0]\n",
    "#We can now find the price of the good:\n",
    "print(\"\\n The price is: \" + str(demand(p_q1,p_q2,k)) ) "
   ]
  },
  {
   "cell_type": "markdown",
   "metadata": {},
   "source": [
    "As a result of the difference in cost functions and production, the price has now increased to 20 from 18."
   ]
  },
  {
   "cell_type": "code",
   "execution_count": 136,
   "metadata": {},
   "outputs": [
    {
     "name": "stdout",
     "output_type": "stream",
     "text": [
      "\n",
      " Firm 1 profit is: 152 and firm 2 profit is: 98\n"
     ]
    }
   ],
   "source": [
    "# Profit 1\n",
    "prof_1(p_q1, p_q2,k,g)\n",
    "\n",
    "# Profit 2\n",
    "prof_2(p_q1, p_q2, k, g)\n",
    "\n",
    "print(\"\\n Firm 1 profit is: \" + str(prof_1(p_q1, p_q2, k, g)) + \" and firm 2 profit is: \" + str(prof_2(p_q1, p_q2, k, g)) )"
   ]
  },
  {
   "cell_type": "markdown",
   "metadata": {},
   "source": [
    "To conclude on the numerical analysis:\n",
    "    - Firm 1:\n",
    "        - Optimal quantity: 9\n",
    "        - Profit 152\n",
    "    - Firm 2:\n",
    "        - Optimal quantity: 6\n",
    "        - Profit 98\n",
    "        \n",
    "With a shared price for the good of 20.\n",
    "\n",
    "Here it can be seen how firm 1 has increased the profit from 118 to 152, while firm 2 has seen a reduction from 118 to 98."
   ]
  },
  {
   "cell_type": "code",
   "execution_count": 137,
   "metadata": {},
   "outputs": [
    {
     "name": "stdout",
     "output_type": "stream",
     "text": [
      "\n",
      " The optimal point of quantities is 9 for firm 1 and 6 for firm 2 \n"
     ]
    }
   ],
   "source": [
    "# The two best response functions are plotted against each other\n",
    "\n",
    "plt.plot([0,12],[24,0], label = 'BestR_1(opt_q2)')\n",
    "plt.plot([0,21],[21/2,0], label = 'BestR_2(opt_q1)')\n",
    "plt.legend()\n",
    "plt.xlabel('Quantity firm 1')\n",
    "plt.ylabel('Quantity firm 2')\n",
    "plt.title('Best response functions')\n",
    "\n",
    "print(\"\\n The optimal point of quantities is \" + str(p_q1) + \" for firm 1 \" + \"and \" + str(p_q2) + \" for firm 2 \" )"
   ]
  },
  {
   "cell_type": "markdown",
   "metadata": {},
   "source": [
    "<font size=\"5\">Analytical solution - 3 firms</font>"
   ]
  },
  {
   "cell_type": "markdown",
   "metadata": {},
   "source": [
    "The last expansion of the model in including another firm all three with different cost functions as defined below"
   ]
  },
  {
   "cell_type": "code",
   "execution_count": 138,
   "metadata": {},
   "outputs": [],
   "source": [
    "# Attaching symbols to relevant variables\n",
    "\n",
    "q3 = sm.symbols('q_3') #quantity produced by firm 3\n",
    "p = sm.symbols('p')\n",
    "d = sm.symbols('d')\n",
    "c1 = sm.symbols('c_1') #unit cost for firm 1 \n",
    "c2 = sm.symbols('c_2') #unit cost for firm 2 \n",
    "c3 = sm.symbols('c_3') #unit cost for firm 3\n",
    "\n",
    "# Defining basic functions of the model\n",
    "\n",
    "# First off, the total demand function\n",
    "def demand(q1,q2,q3,y):\n",
    "    return (p-2*(q1+q2+q3))\n",
    "\n",
    "# Secondly, I write the cost functions of Firm 1, Firm 2 and Firm 3\n",
    "def cost_1_3(q1,d):\n",
    "    return (d+c1*q1)\n",
    "\n",
    "def cost_2_3(q2,d):\n",
    "    return (d+c2*q2)\n",
    "\n",
    "def cost_3_3(q3,d):\n",
    "    return (d+c3*q3)\n",
    "\n",
    "# Finally, I establish the profit function of first Firm 1, then Firm 2 and then Firm 3\n",
    "def prof_1(q1,q2,q3,p,d):\n",
    "    return (demand(q1,q2,q3,p) * q1 - cost_1_3(q1,d))\n",
    "    \n",
    "def prof_2(q1,q2,q3,p,d):\n",
    "    return (demand(q1,q2,q3,p) * q2 - cost_2_3(q2,d))\n",
    "\n",
    "def prof_3(q1,q2,q3,p,d):\n",
    "    return (demand(q1,q2,q3,p) * q3 - cost_3_3(q3,d))"
   ]
  },
  {
   "cell_type": "markdown",
   "metadata": {},
   "source": [
    "To start off, I derive the first order conditions and isolate q1, q2 and q3 respectively"
   ]
  },
  {
   "cell_type": "code",
   "execution_count": 151,
   "metadata": {},
   "outputs": [
    {
     "data": {
      "text/plain": [
       "{q_1: 13/2, q_2: 5, q_3: 11/2}"
      ]
     },
     "metadata": {},
     "output_type": "display_data"
    }
   ],
   "source": [
    "# In order to calcluate the best response function, I find the first order conditions\n",
    "\n",
    "FOC1 = sm.Eq(sm.diff(prof_1(q1,q2,q3,p,d),q1),0)\n",
    "FOC2 = sm.Eq(sm.diff(prof_2(q1,q2,q3,p,d),q2),0)\n",
    "FOC3 = sm.Eq(sm.diff(prof_3(q1,q2,q3,p,d),q3),0)\n",
    "\n",
    "sol = sm.solve([FOC1,FOC2,FOC3],[q1,q2,q3])\n",
    "display(sol)"
   ]
  },
  {
   "cell_type": "markdown",
   "metadata": {},
   "source": [
    "For later use I define a solution function depending on the cost of each firm"
   ]
  },
  {
   "cell_type": "markdown",
   "metadata": {},
   "source": [
    "<font size=\"5\">Numerical solution</font>"
   ]
  },
  {
   "cell_type": "markdown",
   "metadata": {},
   "source": [
    "Now the numerical analysis starts and I have chosen cost values of:\n",
    "    c1 = 3\n",
    "    c2 = 6\n",
    "    c3= 5\n",
    "So firm 1 faces the lowest cost, followed by firm 3, making firm 2 facing the highest cost of production."
   ]
  },
  {
   "cell_type": "code",
   "execution_count": 152,
   "metadata": {},
   "outputs": [],
   "source": [
    "# Setting parametervalues\n",
    "\n",
    "c1 = 3\n",
    "c2 = 6\n",
    "c3 = 5\n",
    "p = 50\n",
    "d = 10"
   ]
  },
  {
   "cell_type": "code",
   "execution_count": 153,
   "metadata": {},
   "outputs": [
    {
     "data": {
      "text/plain": [
       "{q_1: 13/2, q_2: 5, q_3: 11/2}"
      ]
     },
     "metadata": {},
     "output_type": "display_data"
    }
   ],
   "source": [
    "# In order to calcluate the best response function, I find the first order conditions\n",
    "\n",
    "FOC1 = sm.Eq(sm.diff(prof_1(q1,q2,q3,p,d),q1),0)\n",
    "FOC2 = sm.Eq(sm.diff(prof_2(q1,q2,q3,p,d),q2),0)\n",
    "FOC3 = sm.Eq(sm.diff(prof_3(q1,q2,q3,p,d),q3),0)\n",
    "\n",
    "sol = sm.solve([FOC1,FOC2,FOC3],[q1,q2,q3])\n",
    "display(sol)"
   ]
  },
  {
   "cell_type": "markdown",
   "metadata": {},
   "source": [
    "Above the optimal quantities of each firm is given, and we can see that firm 1 chooses the highest level of production, then firm 3  and with the lowest optimal quantity is firm 2. This aligns well with the expectation based in the cost functions."
   ]
  },
  {
   "cell_type": "code",
   "execution_count": 154,
   "metadata": {},
   "outputs": [
    {
     "name": "stdout",
     "output_type": "stream",
     "text": [
      "\n",
      " Firm 1 best response is: q_1 = [-q_2/2 - q_3/2 + 47/4]\n",
      "\n",
      " Firm 2 best response is: q_2 = [-q_1/2 - q_3/2 + 11]\n",
      "\n",
      " Firm 2 best response is: q_2 = [-q_1/2 - q_2/2 + 45/4]\n"
     ]
    }
   ],
   "source": [
    "BestR_1 = sm.solve(FOC1,q1)\n",
    "BestR_2 = sm.solve(FOC2,q2)\n",
    "BestR_3 = sm.solve(FOC3,q3)\n",
    "\n",
    "print(\"\\n Firm 1 best response is: q_1 = \" + str(BestR_1))\n",
    "print(\"\\n Firm 2 best response is: q_2 = \" + str(BestR_2))\n",
    "print(\"\\n Firm 2 best response is: q_2 = \" + str(BestR_3))"
   ]
  },
  {
   "cell_type": "markdown",
   "metadata": {},
   "source": [
    "At last we see the best response function from each firm, as functions of the production on the market. This shows the competition situation facing firms that are price takers and compete on quantities. Here it is a game of having lowest cost."
   ]
  },
  {
   "cell_type": "markdown",
   "metadata": {},
   "source": [
    "<font size=\"5\">Conclusion</font>\n",
    "\n",
    "Through the assignment I have tried to show how Cournot competition changes when introducing different aspects. The results clearly show the choices the firms stands with in competition with another firm. Settling on the optimal quantity heavily relies on the circumstances and choices made by competing firms.\n",
    "Cournot competition have firms as pricetakers, so the only way to outcompete the other players is by lowering costs, as seen in the numerical examples with different cst functions. Here the firm with the lowest cost produces and sells the most, and get the highest profit."
   ]
  },
  {
   "cell_type": "code",
   "execution_count": null,
   "metadata": {},
   "outputs": [],
   "source": []
  }
 ],
 "metadata": {
  "kernelspec": {
   "display_name": "Python 3",
   "language": "python",
   "name": "python3"
  },
  "language_info": {
   "codemirror_mode": {
    "name": "ipython",
    "version": 3
   },
   "file_extension": ".py",
   "mimetype": "text/x-python",
   "name": "python",
   "nbconvert_exporter": "python",
   "pygments_lexer": "ipython3",
   "version": "3.7.1"
  }
 },
 "nbformat": 4,
 "nbformat_minor": 2
}

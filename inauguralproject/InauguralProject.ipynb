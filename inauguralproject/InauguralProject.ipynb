{
 "cells": [
  {
   "cell_type": "markdown",
   "metadata": {},
   "source": [
    "<font size=\"5\">Labor Supply problem</font>\n",
    "\n",
    "\n",
    "The entire exercise concerns itself with the labor supply problem, in where a consumer has to choose between the labor supplied (and thereby how much leisure is to be enjoyed) and the consumption derived from that labor. The exercise extends itself to concern tax revenue collected, and the implications a change in tax will give. At the end, optimal levels of taxation is considered."
   ]
  },
  {
   "cell_type": "markdown",
   "metadata": {},
   "source": [
    "<font size=\"5\">Assignment 1</font>"
   ]
  },
  {
   "cell_type": "markdown",
   "metadata": {},
   "source": [
    "In the first assignment I will construct an equation that solves the maximization problem the consumer faces when chooisng between labor, leisure and consumption. I set the parameters according to the values given in question 1.2 to find the optimal labor and consumption derived from the optimization and the utility from the chosen labor and consumption levels."
   ]
  },
  {
   "cell_type": "code",
   "execution_count": 1,
   "metadata": {},
   "outputs": [
    {
     "name": "stdout",
     "output_type": "stream",
     "text": [
      "The optimal labor is : [0.39999999]\n",
      "The optimal consumption is : [1.23999999]\n",
      "The optimal utility is : [0.34851383]\n"
     ]
    }
   ],
   "source": [
    "# Assignment 1\n",
    "\n",
    "# Importing relevant packages\n",
    "import numpy as np\n",
    "\n",
    "# Choosing parametervalues\n",
    "m = 1\n",
    "v = 10\n",
    "eps = 0.3\n",
    "t0 = 0.4\n",
    "t1 = 0.1\n",
    "k = 0.4\n",
    "w = 1\n",
    "T = 10000\n",
    "\n",
    "# Defining the utility functon with the given restrictions on c and l\n",
    "def lab_sup(l, m, v, eps, t0, t1, k):\n",
    "    c = m + w*l - (t0*w*l + t1*np.fmax(w*l - k, 0))\n",
    "    if 0<=l<=1:\n",
    "        utility = np.log(c)-(v*(l**(1+(1/eps)))/(1+(1/eps)))\n",
    "    else:\n",
    "        utility = -np.inf\n",
    "    return utility\n",
    "\n",
    "# Importing optimization tool\n",
    "from scipy import optimize\n",
    "\n",
    "# Making lab_sup a function of only l \n",
    "obj = lambda l: -lab_sup(l, m, v, eps, t0, t1,  k)\n",
    "\n",
    "# Calling minimizer\n",
    "solution = optimize.minimize(obj, 0.5)\n",
    "\n",
    "# Getting the results\n",
    "l = solution.x\n",
    "c = m + w*l - (t0*w*l + t1*np.fmax(w*l - k, 0))\n",
    "u = lab_sup(l, c, v, eps, t0, t1, k)\n",
    "\n",
    "# Printing results\n",
    "print('The optimal labor is',':',l)\n",
    "print('The optimal consumption is',':',c)\n",
    "print('The optimal utility is',':',u)"
   ]
  },
  {
   "cell_type": "markdown",
   "metadata": {},
   "source": [
    "The above results is the chosen level of labor and consumption and the utility they give the consumer, given the parameters."
   ]
  },
  {
   "cell_type": "markdown",
   "metadata": {},
   "source": [
    "<font size=\"5\">Assigment 2</font>"
   ]
  },
  {
   "cell_type": "markdown",
   "metadata": {},
   "source": [
    "In the second assignment I will try to plot optimal labor an consumption as functions of w, the wage rate, i order to illustrate the result graphically."
   ]
  },
  {
   "cell_type": "code",
   "execution_count": 2,
   "metadata": {},
   "outputs": [
    {
     "data": {
      "text/plain": [
       "<function matplotlib.pyplot.show(*args, **kw)>"
      ]
     },
     "execution_count": 2,
     "metadata": {},
     "output_type": "execute_result"
    },
    {
     "data": {
      "image/png": "[encoded data removed]",
      "text/plain": [
       "<Figure size 432x288 with 2 Axes>"
      ]
     },
     "metadata": {
      "needs_background": "light"
     },
     "output_type": "display_data"
    }
   ],
   "source": [
    "# Assignment 2\n",
    "\n",
    "# Importing relevant packages\n",
    "import matplotlib.pyplot as plt\n",
    "%matplotlib inline\n",
    "\n",
    "# Defining consumption as functoin of l and w \n",
    "c_func = lambda l, w: m + w*l - (t0*w*l + t1 * max([w*l - k,0]))\n",
    "\n",
    "# Setting up w, l, c and N\n",
    "N = 10000\n",
    "\n",
    "w_vec = np.linspace(0.5,1.5,N)\n",
    "l_vec = np.empty(N)\n",
    "c_vec = np.empty(N)\n",
    "\n",
    "# Defining the vector for w\n",
    "for i,w in enumerate(w_vec):\n",
    "    int_g = 0.5\n",
    "    obj_2 = optimize.minimize(\n",
    "        lambda l: -lab_sup(l, m, v, eps, t0, t1, k), int_g, method='SLSQP',bounds=((0,1),))\n",
    "    l_vec[i] = obj_2.x\n",
    "    c_vec[i] = c_func(l_vec[i],w)\n",
    " \n",
    "# Making the plots of consumption and labor\n",
    "fig = plt.figure()\n",
    "\n",
    "# Labor graph\n",
    "ax_l = fig.add_subplot(1, 2, 1)\n",
    "ax_l.plot(w_vec,l_vec)\n",
    "ax_l.set_title('Labour supply, function of wage')\n",
    "ax_l.set_xlabel('$w$')\n",
    "ax_l.set_ylabel('$l$')\n",
    "\n",
    "# Consumption graph\n",
    "ax_c = fig.add_subplot(1, 2, 2)\n",
    "ax_c.plot(w_vec, c_vec)\n",
    "ax_c.set_title('Consumption, function of wage')\n",
    "ax_c.set_xlabel('$w$')\n",
    "ax_c.set_ylabel('$c$')\n",
    "\n",
    "plt.show"
   ]
  },
  {
   "cell_type": "markdown",
   "metadata": {},
   "source": [
    "From the illustrations above it can be seen that both graphs have a kink around w = 1, which is where the optimimum is found for both labor and consumption."
   ]
  },
  {
   "cell_type": "markdown",
   "metadata": {},
   "source": [
    "<font size=\"5\">Assigment 3</font>"
   ]
  },
  {
   "cell_type": "markdown",
   "metadata": {},
   "source": [
    "Assignment 3 concerns itself with finding the overall tax revenue given the optimal levels of labor and consumption. It is found below"
   ]
  },
  {
   "cell_type": "code",
   "execution_count": 3,
   "metadata": {},
   "outputs": [
    {
     "name": "stdout",
     "output_type": "stream",
     "text": [
      "Total tax revenue is : 1806.4887612453426\n"
     ]
    }
   ],
   "source": [
    "# Assignment 3\n",
    "\n",
    "# Defining the tax revenue function\n",
    "def tax(w_vec, l_vec, t0, t1, k):\n",
    "    tax_rev = np.sum(t0*w_vec*l_vec + t1*np.max(w_vec*l_vec - k, 0))\n",
    "    return tax_rev\n",
    "\n",
    "# Printing the result\n",
    "print('Total tax revenue is',':',tax(w_vec, l_vec, t0, t1, k))"
   ]
  },
  {
   "cell_type": "markdown",
   "metadata": {},
   "source": [
    "The total tax revenue is 1806,5 under optimal levels of consumption and labor and the parameters set at the beginning."
   ]
  },
  {
   "cell_type": "markdown",
   "metadata": {},
   "source": [
    "<font size=\"5\">Assigment 4</font>"
   ]
  },
  {
   "cell_type": "markdown",
   "metadata": {},
   "source": [
    "In the fourth assignment we change the Frisch elasticity of labor supply, making work hours less responsive to changes in wage."
   ]
  },
  {
   "cell_type": "code",
   "execution_count": 4,
   "metadata": {},
   "outputs": [
    {
     "name": "stdout",
     "output_type": "stream",
     "text": [
      "New tax reveneue with eps = 0.1 : 3580.566225159515\n"
     ]
    }
   ],
   "source": [
    "# Assignment 4\n",
    "\n",
    "# Giving epsilon new value\n",
    "eps = 0.1\n",
    "\n",
    "# Setting up new c, l and w\n",
    "c_v = np.empty(N)\n",
    "l_v = np.empty(N)\n",
    "w_v = np.linspace(0.5,1.5,N)\n",
    "\n",
    "# Making new wagerate function\n",
    "for i, w in enumerate(w_v):\n",
    "    int_g = 0.5\n",
    "    obj_3 = optimize.minimize(lambda l: -lab_sup(l, m, v, eps, t0, t1, k), int_g, method = 'SLSQP', bounds=((0,1),))\n",
    "    \n",
    "    # Getting the results\n",
    "    l_v[i] = obj_3.x\n",
    "    c_v[i] = c_func(l_v[i], w)\n",
    "\n",
    "# Defining the new tax revenue function   \n",
    "def new_tax_eps(w_vec, l_v, t0, t1, k):\n",
    "    new_tax_rev_eps = np.sum(t0*w_vec*l_v + t1*np.max(w_vec*l_v - k, 0))\n",
    "    return new_tax_rev_eps\n",
    "\n",
    "# Printing the result\n",
    "print('New tax reveneue with eps = 0.1', ':', new_tax_eps(w_vec, l_v, t0, t1, k))    "
   ]
  },
  {
   "cell_type": "markdown",
   "metadata": {},
   "source": [
    "With a change in the Frisch elasticity of labor supply the tax revenue now increases to 3580.57."
   ]
  },
  {
   "cell_type": "markdown",
   "metadata": {},
   "source": [
    "<font size=\"5\">Assigment 5</font>"
   ]
  },
  {
   "cell_type": "markdown",
   "metadata": {},
   "source": [
    "In the fifth assignment I will try to find the optimal levels of standard and top levels brackets of income and the cut-off top income labor bracket, as well as the totail tax revenue under these circumstances."
   ]
  },
  {
   "cell_type": "code",
   "execution_count": 38,
   "metadata": {},
   "outputs": [
    {
     "name": "stdout",
     "output_type": "stream",
     "text": [
      "Optimal standard labor income tax is 0.8744056377848538\n",
      "Optimal top bracket labor income tax is 0.8397338047597173\n",
      "Optimal cut-off for top labor income bracket tax is 0.08479968700254421\n",
      "Optimal tax revenue is 8021.676467647748\n"
     ]
    }
   ],
   "source": [
    "# Assignment 5\n",
    "\n",
    "# Redefining the consumption function\n",
    "def new_c(x):\n",
    "    t0 = x[2]\n",
    "    t1 = x[3]\n",
    "    k = x[4]\n",
    "    return m + x[0]*x[1] - (x[2]*x[0]*x[1] + x[3] * np.max([x[0]*x[1] - x[4],0]))\n",
    "\n",
    "# Defining the tax function\n",
    "def new_tax_opt(x):\n",
    "    w = x[0]\n",
    "    l = x[1]    \n",
    "    t0 = x[2]\n",
    "    t1 = x[3]\n",
    "    k = x[4]\n",
    "    new_tax_rev_opt = np.sum(x[2]*x[0]*x[1] + x[3]*np.max(x[0]*x[1]-x[4],0))\n",
    "    return -new_tax_rev_opt\n",
    "\n",
    "def opt_tax(x):\n",
    "    w = x[0]\n",
    "    l = x[1]\n",
    "    constr = new_c(x)\n",
    "    return -new_tax_opt(x)\n",
    "\n",
    "# Setting up conditions for optimization\n",
    "x0 = [1, 0.4, 0.4, 0, 0]\n",
    "constraints = ({\"type\":\"ineq\",\"fun\":new_c})\n",
    "\n",
    "# Calling the minimizer\n",
    "new_obj = optimize.minimize(new_tax_opt, x0, bounds=((0.5,1.5),(0,1),(0,1),(0,1),(0,1)),constraints=constraints, method='SLSQP')\n",
    "\n",
    "# Getting the results\n",
    "w_opt = new_obj.x[0]\n",
    "l_opt = new_obj.x[1]\n",
    "t0_opt = new_obj.x[2]\n",
    "t1_opt = new_obj.x[3]\n",
    "k_opt = new_obj.x[4]\n",
    "c_opt = new_c(new_obj.x)\n",
    "tax_revenue_opt = tax(w_vec,l_vec,t0_opt,t1_opt,k_opt)\n",
    "\n",
    "# Printing results\n",
    "print(\"Optimal standard labor income tax is\", t0_opt)\n",
    "print(\"Optimal top bracket labor income tax is\", t1_opt)\n",
    "print(\"Optimal cut-off for top labor income bracket tax is\", k_opt)\n",
    "print(\"Optimal tax revenue is\", tax_revenue_opt)"
   ]
  },
  {
   "cell_type": "code",
   "execution_count": null,
   "metadata": {},
   "outputs": [],
   "source": []
  },
  {
   "cell_type": "code",
   "execution_count": null,
   "metadata": {},
   "outputs": [],
   "source": []
  },
  {
   "cell_type": "code",
   "execution_count": null,
   "metadata": {},
   "outputs": [],
   "source": []
  },
  {
   "cell_type": "code",
   "execution_count": null,
   "metadata": {},
   "outputs": [],
   "source": []
  },
  {
   "cell_type": "code",
   "execution_count": null,
   "metadata": {},
   "outputs": [],
   "source": []
  }
 ],
 "metadata": {
  "kernelspec": {
   "display_name": "Python 3",
   "language": "python",
   "name": "python3"
  },
  "language_info": {
   "codemirror_mode": {
    "name": "ipython",
    "version": 3
   },
   "file_extension": ".py",
   "mimetype": "text/x-python",
   "name": "python",
   "nbconvert_exporter": "python",
   "pygments_lexer": "ipython3",
   "version": "3.7.1"
  }
 },
 "nbformat": 4,
 "nbformat_minor": 2
}
